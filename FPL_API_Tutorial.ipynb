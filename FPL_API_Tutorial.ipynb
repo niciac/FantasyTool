{
 "metadata": {
  "language_info": {
   "codemirror_mode": {
    "name": "ipython",
    "version": 3
   },
   "file_extension": ".py",
   "mimetype": "text/x-python",
   "name": "python",
   "nbconvert_exporter": "python",
   "pygments_lexer": "ipython3",
   "version": "3.9.0"
  },
  "orig_nbformat": 2,
  "kernelspec": {
   "name": "python3",
   "display_name": "Python 3.9.0 64-bit ('FantasyTool': venv)"
  },
  "metadata": {
   "interpreter": {
    "hash": "4efa30975f6cb81eef7c215759f6304dcbf7b5ceca8c6ecf7248faed0d36c397"
   }
  },
  "interpreter": {
   "hash": "e307813c501187914b4fdb3b49d91fbd239076db600b2f6b9ce20e3ebb96a3ad"
  }
 },
 "nbformat": 4,
 "nbformat_minor": 2,
 "cells": [
  {
   "cell_type": "markdown",
   "source": [
    "Python notebook based on https://towardsdatascience.com/fantasy-premier-league-value-analysis-python-tutorial-using-the-fpl-api-8031edfe9910#8ef2\n",
    "\n",
    "Tutorial on how to get use the FPL API to gather data."
   ],
   "metadata": {}
  },
  {
   "cell_type": "code",
   "execution_count": 1,
   "source": [
    "import requests\n",
    "import pandas as pd\n",
    "import numpy as np"
   ],
   "outputs": [],
   "metadata": {}
  },
  {
   "cell_type": "code",
   "execution_count": 2,
   "source": [
    "# API url\n",
    "url = 'https://fantasy.premierleague.com/api/bootstrap-static/'"
   ],
   "outputs": [],
   "metadata": {}
  },
  {
   "cell_type": "code",
   "execution_count": 3,
   "source": [
    "# Use requests to get request from API\n",
    "request = requests.get(url)"
   ],
   "outputs": [],
   "metadata": {}
  },
  {
   "cell_type": "code",
   "execution_count": 4,
   "source": [
    "json = request.json()\n",
    "json.keys()"
   ],
   "outputs": [
    {
     "output_type": "execute_result",
     "data": {
      "text/plain": [
       "dict_keys(['events', 'game_settings', 'phases', 'teams', 'total_players', 'elements', 'element_stats', 'element_types'])"
      ]
     },
     "metadata": {},
     "execution_count": 4
    }
   ],
   "metadata": {}
  },
  {
   "cell_type": "markdown",
   "source": [
    "Building the dataframes we will use"
   ],
   "metadata": {}
  },
  {
   "cell_type": "code",
   "execution_count": 5,
   "source": [
    "elements_df = pd.DataFrame(json['elements'])\n",
    "elements_types_df = pd.DataFrame(json['element_types'])\n",
    "teams_df = pd.DataFrame(json['teams'])"
   ],
   "outputs": [],
   "metadata": {}
  },
  {
   "cell_type": "markdown",
   "source": [
    "For loop that loops through phases dictionary to see what it contains"
   ],
   "metadata": {}
  },
  {
   "cell_type": "markdown",
   "source": [
    "for x in range(0,len(json['phases'])):\n",
    "    for key,value in json['phases'][x].items():\n",
    "        print(key,value)"
   ],
   "metadata": {
    "tags": []
   }
  },
  {
   "cell_type": "code",
   "execution_count": 6,
   "source": [
    "elements_df.head()"
   ],
   "outputs": [
    {
     "output_type": "execute_result",
     "data": {
      "text/plain": [
       "   chance_of_playing_next_round  chance_of_playing_this_round    code  \\\n",
       "0                           NaN                           NaN   80201   \n",
       "1                           NaN                           NaN  115918   \n",
       "2                           NaN                           NaN   47431   \n",
       "3                          25.0                          25.0   54694   \n",
       "4                           NaN                           NaN   58822   \n",
       "\n",
       "   cost_change_event  cost_change_event_fall  cost_change_start  \\\n",
       "0                  0                       0                  0   \n",
       "1                  0                       0                  0   \n",
       "2                  0                       0                  0   \n",
       "3                  0                       0                  0   \n",
       "4                  0                       0                  0   \n",
       "\n",
       "   cost_change_start_fall  dreamteam_count  element_type ep_next  ...  \\\n",
       "0                       0                0             1     2.6  ...   \n",
       "1                       0                0             1     1.0  ...   \n",
       "2                       0                0             3     2.2  ...   \n",
       "3                       0                0             4     0.8  ...   \n",
       "4                       0                0             2     1.7  ...   \n",
       "\n",
       "  threat_rank  threat_rank_type ict_index_rank ict_index_rank_type  \\\n",
       "0         245                45             21                   2   \n",
       "1          35                10             42                  12   \n",
       "2         465               187            465                 187   \n",
       "3         523                67            523                  67   \n",
       "4          81                38             88                  41   \n",
       "\n",
       "   corners_and_indirect_freekicks_order  corners_and_indirect_freekicks_text  \\\n",
       "0                                   NaN                                        \n",
       "1                                   NaN                                        \n",
       "2                                   1.0                                        \n",
       "3                                   NaN                                        \n",
       "4                                   NaN                                        \n",
       "\n",
       "  direct_freekicks_order direct_freekicks_text  penalties_order penalties_text  \n",
       "0                    NaN                                    NaN                 \n",
       "1                    NaN                                    NaN                 \n",
       "2                    2.0                                    NaN                 \n",
       "3                    NaN                                    1.0                 \n",
       "4                    5.0                                    NaN                 \n",
       "\n",
       "[5 rows x 67 columns]"
      ],
      "text/html": [
       "<div>\n",
       "<style scoped>\n",
       "    .dataframe tbody tr th:only-of-type {\n",
       "        vertical-align: middle;\n",
       "    }\n",
       "\n",
       "    .dataframe tbody tr th {\n",
       "        vertical-align: top;\n",
       "    }\n",
       "\n",
       "    .dataframe thead th {\n",
       "        text-align: right;\n",
       "    }\n",
       "</style>\n",
       "<table border=\"1\" class=\"dataframe\">\n",
       "  <thead>\n",
       "    <tr style=\"text-align: right;\">\n",
       "      <th></th>\n",
       "      <th>chance_of_playing_next_round</th>\n",
       "      <th>chance_of_playing_this_round</th>\n",
       "      <th>code</th>\n",
       "      <th>cost_change_event</th>\n",
       "      <th>cost_change_event_fall</th>\n",
       "      <th>cost_change_start</th>\n",
       "      <th>cost_change_start_fall</th>\n",
       "      <th>dreamteam_count</th>\n",
       "      <th>element_type</th>\n",
       "      <th>ep_next</th>\n",
       "      <th>...</th>\n",
       "      <th>threat_rank</th>\n",
       "      <th>threat_rank_type</th>\n",
       "      <th>ict_index_rank</th>\n",
       "      <th>ict_index_rank_type</th>\n",
       "      <th>corners_and_indirect_freekicks_order</th>\n",
       "      <th>corners_and_indirect_freekicks_text</th>\n",
       "      <th>direct_freekicks_order</th>\n",
       "      <th>direct_freekicks_text</th>\n",
       "      <th>penalties_order</th>\n",
       "      <th>penalties_text</th>\n",
       "    </tr>\n",
       "  </thead>\n",
       "  <tbody>\n",
       "    <tr>\n",
       "      <th>0</th>\n",
       "      <td>NaN</td>\n",
       "      <td>NaN</td>\n",
       "      <td>80201</td>\n",
       "      <td>0</td>\n",
       "      <td>0</td>\n",
       "      <td>0</td>\n",
       "      <td>0</td>\n",
       "      <td>0</td>\n",
       "      <td>1</td>\n",
       "      <td>2.6</td>\n",
       "      <td>...</td>\n",
       "      <td>245</td>\n",
       "      <td>45</td>\n",
       "      <td>21</td>\n",
       "      <td>2</td>\n",
       "      <td>NaN</td>\n",
       "      <td></td>\n",
       "      <td>NaN</td>\n",
       "      <td></td>\n",
       "      <td>NaN</td>\n",
       "      <td></td>\n",
       "    </tr>\n",
       "    <tr>\n",
       "      <th>1</th>\n",
       "      <td>NaN</td>\n",
       "      <td>NaN</td>\n",
       "      <td>115918</td>\n",
       "      <td>0</td>\n",
       "      <td>0</td>\n",
       "      <td>0</td>\n",
       "      <td>0</td>\n",
       "      <td>0</td>\n",
       "      <td>1</td>\n",
       "      <td>1.0</td>\n",
       "      <td>...</td>\n",
       "      <td>35</td>\n",
       "      <td>10</td>\n",
       "      <td>42</td>\n",
       "      <td>12</td>\n",
       "      <td>NaN</td>\n",
       "      <td></td>\n",
       "      <td>NaN</td>\n",
       "      <td></td>\n",
       "      <td>NaN</td>\n",
       "      <td></td>\n",
       "    </tr>\n",
       "    <tr>\n",
       "      <th>2</th>\n",
       "      <td>NaN</td>\n",
       "      <td>NaN</td>\n",
       "      <td>47431</td>\n",
       "      <td>0</td>\n",
       "      <td>0</td>\n",
       "      <td>0</td>\n",
       "      <td>0</td>\n",
       "      <td>0</td>\n",
       "      <td>3</td>\n",
       "      <td>2.2</td>\n",
       "      <td>...</td>\n",
       "      <td>465</td>\n",
       "      <td>187</td>\n",
       "      <td>465</td>\n",
       "      <td>187</td>\n",
       "      <td>1.0</td>\n",
       "      <td></td>\n",
       "      <td>2.0</td>\n",
       "      <td></td>\n",
       "      <td>NaN</td>\n",
       "      <td></td>\n",
       "    </tr>\n",
       "    <tr>\n",
       "      <th>3</th>\n",
       "      <td>25.0</td>\n",
       "      <td>25.0</td>\n",
       "      <td>54694</td>\n",
       "      <td>0</td>\n",
       "      <td>0</td>\n",
       "      <td>0</td>\n",
       "      <td>0</td>\n",
       "      <td>0</td>\n",
       "      <td>4</td>\n",
       "      <td>0.8</td>\n",
       "      <td>...</td>\n",
       "      <td>523</td>\n",
       "      <td>67</td>\n",
       "      <td>523</td>\n",
       "      <td>67</td>\n",
       "      <td>NaN</td>\n",
       "      <td></td>\n",
       "      <td>NaN</td>\n",
       "      <td></td>\n",
       "      <td>1.0</td>\n",
       "      <td></td>\n",
       "    </tr>\n",
       "    <tr>\n",
       "      <th>4</th>\n",
       "      <td>NaN</td>\n",
       "      <td>NaN</td>\n",
       "      <td>58822</td>\n",
       "      <td>0</td>\n",
       "      <td>0</td>\n",
       "      <td>0</td>\n",
       "      <td>0</td>\n",
       "      <td>0</td>\n",
       "      <td>2</td>\n",
       "      <td>1.7</td>\n",
       "      <td>...</td>\n",
       "      <td>81</td>\n",
       "      <td>38</td>\n",
       "      <td>88</td>\n",
       "      <td>41</td>\n",
       "      <td>NaN</td>\n",
       "      <td></td>\n",
       "      <td>5.0</td>\n",
       "      <td></td>\n",
       "      <td>NaN</td>\n",
       "      <td></td>\n",
       "    </tr>\n",
       "  </tbody>\n",
       "</table>\n",
       "<p>5 rows × 67 columns</p>\n",
       "</div>"
      ]
     },
     "metadata": {},
     "execution_count": 6
    }
   ],
   "metadata": {}
  },
  {
   "cell_type": "markdown",
   "source": [
    "Looking at all the columns of our dataframe"
   ],
   "metadata": {}
  },
  {
   "cell_type": "code",
   "execution_count": 7,
   "source": [
    "elements_df.columns"
   ],
   "outputs": [
    {
     "output_type": "execute_result",
     "data": {
      "text/plain": [
       "Index(['chance_of_playing_next_round', 'chance_of_playing_this_round', 'code',\n",
       "       'cost_change_event', 'cost_change_event_fall', 'cost_change_start',\n",
       "       'cost_change_start_fall', 'dreamteam_count', 'element_type', 'ep_next',\n",
       "       'ep_this', 'event_points', 'first_name', 'form', 'id', 'in_dreamteam',\n",
       "       'news', 'news_added', 'now_cost', 'photo', 'points_per_game',\n",
       "       'second_name', 'selected_by_percent', 'special', 'squad_number',\n",
       "       'status', 'team', 'team_code', 'total_points', 'transfers_in',\n",
       "       'transfers_in_event', 'transfers_out', 'transfers_out_event',\n",
       "       'value_form', 'value_season', 'web_name', 'minutes', 'goals_scored',\n",
       "       'assists', 'clean_sheets', 'goals_conceded', 'own_goals',\n",
       "       'penalties_saved', 'penalties_missed', 'yellow_cards', 'red_cards',\n",
       "       'saves', 'bonus', 'bps', 'influence', 'creativity', 'threat',\n",
       "       'ict_index', 'influence_rank', 'influence_rank_type', 'creativity_rank',\n",
       "       'creativity_rank_type', 'threat_rank', 'threat_rank_type',\n",
       "       'ict_index_rank', 'ict_index_rank_type',\n",
       "       'corners_and_indirect_freekicks_order',\n",
       "       'corners_and_indirect_freekicks_text', 'direct_freekicks_order',\n",
       "       'direct_freekicks_text', 'penalties_order', 'penalties_text'],\n",
       "      dtype='object')"
      ]
     },
     "metadata": {},
     "execution_count": 7
    }
   ],
   "metadata": {}
  },
  {
   "cell_type": "code",
   "execution_count": 8,
   "source": [
    "slim_elements_df = elements_df[['second_name','team','element_type','selected_by_percent','now_cost','minutes','transfers_in','value_season','total_points']]"
   ],
   "outputs": [],
   "metadata": {}
  },
  {
   "cell_type": "code",
   "execution_count": 9,
   "source": [
    "slim_elements_df.head()"
   ],
   "outputs": [
    {
     "output_type": "execute_result",
     "data": {
      "text/plain": [
       "       second_name  team  element_type selected_by_percent  now_cost  minutes  \\\n",
       "0             Leno     1             1                 2.4        50       90   \n",
       "1        Rúnarsson     1             1                 1.4        40        0   \n",
       "2  Borges Da Silva     1             3                 0.3        65        0   \n",
       "3       Aubameyang     1             4                 2.9       100        0   \n",
       "4           Soares     1             2                 0.3        45        0   \n",
       "\n",
       "   transfers_in value_season  total_points  \n",
       "0           413          0.2             1  \n",
       "1            98          0.0             0  \n",
       "2           162          0.0             0  \n",
       "3           255          0.0             0  \n",
       "4            62          0.0             0  "
      ],
      "text/html": [
       "<div>\n",
       "<style scoped>\n",
       "    .dataframe tbody tr th:only-of-type {\n",
       "        vertical-align: middle;\n",
       "    }\n",
       "\n",
       "    .dataframe tbody tr th {\n",
       "        vertical-align: top;\n",
       "    }\n",
       "\n",
       "    .dataframe thead th {\n",
       "        text-align: right;\n",
       "    }\n",
       "</style>\n",
       "<table border=\"1\" class=\"dataframe\">\n",
       "  <thead>\n",
       "    <tr style=\"text-align: right;\">\n",
       "      <th></th>\n",
       "      <th>second_name</th>\n",
       "      <th>team</th>\n",
       "      <th>element_type</th>\n",
       "      <th>selected_by_percent</th>\n",
       "      <th>now_cost</th>\n",
       "      <th>minutes</th>\n",
       "      <th>transfers_in</th>\n",
       "      <th>value_season</th>\n",
       "      <th>total_points</th>\n",
       "    </tr>\n",
       "  </thead>\n",
       "  <tbody>\n",
       "    <tr>\n",
       "      <th>0</th>\n",
       "      <td>Leno</td>\n",
       "      <td>1</td>\n",
       "      <td>1</td>\n",
       "      <td>2.4</td>\n",
       "      <td>50</td>\n",
       "      <td>90</td>\n",
       "      <td>413</td>\n",
       "      <td>0.2</td>\n",
       "      <td>1</td>\n",
       "    </tr>\n",
       "    <tr>\n",
       "      <th>1</th>\n",
       "      <td>Rúnarsson</td>\n",
       "      <td>1</td>\n",
       "      <td>1</td>\n",
       "      <td>1.4</td>\n",
       "      <td>40</td>\n",
       "      <td>0</td>\n",
       "      <td>98</td>\n",
       "      <td>0.0</td>\n",
       "      <td>0</td>\n",
       "    </tr>\n",
       "    <tr>\n",
       "      <th>2</th>\n",
       "      <td>Borges Da Silva</td>\n",
       "      <td>1</td>\n",
       "      <td>3</td>\n",
       "      <td>0.3</td>\n",
       "      <td>65</td>\n",
       "      <td>0</td>\n",
       "      <td>162</td>\n",
       "      <td>0.0</td>\n",
       "      <td>0</td>\n",
       "    </tr>\n",
       "    <tr>\n",
       "      <th>3</th>\n",
       "      <td>Aubameyang</td>\n",
       "      <td>1</td>\n",
       "      <td>4</td>\n",
       "      <td>2.9</td>\n",
       "      <td>100</td>\n",
       "      <td>0</td>\n",
       "      <td>255</td>\n",
       "      <td>0.0</td>\n",
       "      <td>0</td>\n",
       "    </tr>\n",
       "    <tr>\n",
       "      <th>4</th>\n",
       "      <td>Soares</td>\n",
       "      <td>1</td>\n",
       "      <td>2</td>\n",
       "      <td>0.3</td>\n",
       "      <td>45</td>\n",
       "      <td>0</td>\n",
       "      <td>62</td>\n",
       "      <td>0.0</td>\n",
       "      <td>0</td>\n",
       "    </tr>\n",
       "  </tbody>\n",
       "</table>\n",
       "</div>"
      ]
     },
     "metadata": {},
     "execution_count": 9
    }
   ],
   "metadata": {}
  },
  {
   "cell_type": "code",
   "execution_count": 10,
   "source": [
    "slim_elements_df['position'] = slim_elements_df.element_type.map(elements_types_df.set_index('id').singular_name)"
   ],
   "outputs": [
    {
     "output_type": "stream",
     "name": "stderr",
     "text": [
      "/var/folders/11/_0zmt03n4z77vx95_bc4kv2c0000gn/T/ipykernel_5506/1996727139.py:1: SettingWithCopyWarning: \n",
      "A value is trying to be set on a copy of a slice from a DataFrame.\n",
      "Try using .loc[row_indexer,col_indexer] = value instead\n",
      "\n",
      "See the caveats in the documentation: https://pandas.pydata.org/pandas-docs/stable/user_guide/indexing.html#returning-a-view-versus-a-copy\n",
      "  slim_elements_df['position'] = slim_elements_df.element_type.map(elements_types_df.set_index('id').singular_name)\n"
     ]
    }
   ],
   "metadata": {}
  },
  {
   "cell_type": "code",
   "execution_count": 11,
   "source": [
    "slim_elements_df.head()"
   ],
   "outputs": [
    {
     "output_type": "execute_result",
     "data": {
      "text/plain": [
       "       second_name  team  element_type selected_by_percent  now_cost  minutes  \\\n",
       "0             Leno     1             1                 2.4        50       90   \n",
       "1        Rúnarsson     1             1                 1.4        40        0   \n",
       "2  Borges Da Silva     1             3                 0.3        65        0   \n",
       "3       Aubameyang     1             4                 2.9       100        0   \n",
       "4           Soares     1             2                 0.3        45        0   \n",
       "\n",
       "   transfers_in value_season  total_points    position  \n",
       "0           413          0.2             1  Goalkeeper  \n",
       "1            98          0.0             0  Goalkeeper  \n",
       "2           162          0.0             0  Midfielder  \n",
       "3           255          0.0             0     Forward  \n",
       "4            62          0.0             0    Defender  "
      ],
      "text/html": [
       "<div>\n",
       "<style scoped>\n",
       "    .dataframe tbody tr th:only-of-type {\n",
       "        vertical-align: middle;\n",
       "    }\n",
       "\n",
       "    .dataframe tbody tr th {\n",
       "        vertical-align: top;\n",
       "    }\n",
       "\n",
       "    .dataframe thead th {\n",
       "        text-align: right;\n",
       "    }\n",
       "</style>\n",
       "<table border=\"1\" class=\"dataframe\">\n",
       "  <thead>\n",
       "    <tr style=\"text-align: right;\">\n",
       "      <th></th>\n",
       "      <th>second_name</th>\n",
       "      <th>team</th>\n",
       "      <th>element_type</th>\n",
       "      <th>selected_by_percent</th>\n",
       "      <th>now_cost</th>\n",
       "      <th>minutes</th>\n",
       "      <th>transfers_in</th>\n",
       "      <th>value_season</th>\n",
       "      <th>total_points</th>\n",
       "      <th>position</th>\n",
       "    </tr>\n",
       "  </thead>\n",
       "  <tbody>\n",
       "    <tr>\n",
       "      <th>0</th>\n",
       "      <td>Leno</td>\n",
       "      <td>1</td>\n",
       "      <td>1</td>\n",
       "      <td>2.4</td>\n",
       "      <td>50</td>\n",
       "      <td>90</td>\n",
       "      <td>413</td>\n",
       "      <td>0.2</td>\n",
       "      <td>1</td>\n",
       "      <td>Goalkeeper</td>\n",
       "    </tr>\n",
       "    <tr>\n",
       "      <th>1</th>\n",
       "      <td>Rúnarsson</td>\n",
       "      <td>1</td>\n",
       "      <td>1</td>\n",
       "      <td>1.4</td>\n",
       "      <td>40</td>\n",
       "      <td>0</td>\n",
       "      <td>98</td>\n",
       "      <td>0.0</td>\n",
       "      <td>0</td>\n",
       "      <td>Goalkeeper</td>\n",
       "    </tr>\n",
       "    <tr>\n",
       "      <th>2</th>\n",
       "      <td>Borges Da Silva</td>\n",
       "      <td>1</td>\n",
       "      <td>3</td>\n",
       "      <td>0.3</td>\n",
       "      <td>65</td>\n",
       "      <td>0</td>\n",
       "      <td>162</td>\n",
       "      <td>0.0</td>\n",
       "      <td>0</td>\n",
       "      <td>Midfielder</td>\n",
       "    </tr>\n",
       "    <tr>\n",
       "      <th>3</th>\n",
       "      <td>Aubameyang</td>\n",
       "      <td>1</td>\n",
       "      <td>4</td>\n",
       "      <td>2.9</td>\n",
       "      <td>100</td>\n",
       "      <td>0</td>\n",
       "      <td>255</td>\n",
       "      <td>0.0</td>\n",
       "      <td>0</td>\n",
       "      <td>Forward</td>\n",
       "    </tr>\n",
       "    <tr>\n",
       "      <th>4</th>\n",
       "      <td>Soares</td>\n",
       "      <td>1</td>\n",
       "      <td>2</td>\n",
       "      <td>0.3</td>\n",
       "      <td>45</td>\n",
       "      <td>0</td>\n",
       "      <td>62</td>\n",
       "      <td>0.0</td>\n",
       "      <td>0</td>\n",
       "      <td>Defender</td>\n",
       "    </tr>\n",
       "  </tbody>\n",
       "</table>\n",
       "</div>"
      ]
     },
     "metadata": {},
     "execution_count": 11
    }
   ],
   "metadata": {}
  },
  {
   "cell_type": "code",
   "execution_count": 14,
   "source": [
    "filter = slim_elements_df.second_name == 'Ajer'\n",
    "slim_elements_df[filter]"
   ],
   "outputs": [
    {
     "output_type": "execute_result",
     "data": {
      "text/plain": [
       "   second_name  team  element_type selected_by_percent  now_cost  minutes  \\\n",
       "85        Ajer     3             2                 0.6        45       70   \n",
       "\n",
       "    transfers_in value_season  total_points  position  \n",
       "85           891          1.3             6  Defender  "
      ],
      "text/html": [
       "<div>\n",
       "<style scoped>\n",
       "    .dataframe tbody tr th:only-of-type {\n",
       "        vertical-align: middle;\n",
       "    }\n",
       "\n",
       "    .dataframe tbody tr th {\n",
       "        vertical-align: top;\n",
       "    }\n",
       "\n",
       "    .dataframe thead th {\n",
       "        text-align: right;\n",
       "    }\n",
       "</style>\n",
       "<table border=\"1\" class=\"dataframe\">\n",
       "  <thead>\n",
       "    <tr style=\"text-align: right;\">\n",
       "      <th></th>\n",
       "      <th>second_name</th>\n",
       "      <th>team</th>\n",
       "      <th>element_type</th>\n",
       "      <th>selected_by_percent</th>\n",
       "      <th>now_cost</th>\n",
       "      <th>minutes</th>\n",
       "      <th>transfers_in</th>\n",
       "      <th>value_season</th>\n",
       "      <th>total_points</th>\n",
       "      <th>position</th>\n",
       "    </tr>\n",
       "  </thead>\n",
       "  <tbody>\n",
       "    <tr>\n",
       "      <th>85</th>\n",
       "      <td>Ajer</td>\n",
       "      <td>3</td>\n",
       "      <td>2</td>\n",
       "      <td>0.6</td>\n",
       "      <td>45</td>\n",
       "      <td>70</td>\n",
       "      <td>891</td>\n",
       "      <td>1.3</td>\n",
       "      <td>6</td>\n",
       "      <td>Defender</td>\n",
       "    </tr>\n",
       "  </tbody>\n",
       "</table>\n",
       "</div>"
      ]
     },
     "metadata": {},
     "execution_count": 14
    }
   ],
   "metadata": {}
  },
  {
   "cell_type": "code",
   "execution_count": 16,
   "source": [
    "elements_df.to_csv('2021-08-14.csv')"
   ],
   "outputs": [],
   "metadata": {}
  },
  {
   "cell_type": "code",
   "execution_count": 23,
   "source": [
    "elements_df['code'].describe()"
   ],
   "outputs": [
    {
     "output_type": "execute_result",
     "data": {
      "text/plain": [
       "count       532.000000\n",
       "mean     165308.689850\n",
       "std      109390.731127\n",
       "min        9089.000000\n",
       "25%       83993.500000\n",
       "50%      156378.500000\n",
       "75%      214707.250000\n",
       "max      501837.000000\n",
       "Name: code, dtype: float64"
      ]
     },
     "metadata": {},
     "execution_count": 23
    }
   ],
   "metadata": {}
  }
 ]
}