{
 "metadata": {
  "language_info": {
   "codemirror_mode": {
    "name": "ipython",
    "version": 3
   },
   "file_extension": ".py",
   "mimetype": "text/x-python",
   "name": "python",
   "nbconvert_exporter": "python",
   "pygments_lexer": "ipython3",
   "version": "3.9.0"
  },
  "orig_nbformat": 2,
  "kernelspec": {
   "name": "python390jvsc74a57bd04efa30975f6cb81eef7c215759f6304dcbf7b5ceca8c6ecf7248faed0d36c397",
   "display_name": "Python 3.9.0 64-bit ('FantasyTool': venv)"
  },
  "metadata": {
   "interpreter": {
    "hash": "4efa30975f6cb81eef7c215759f6304dcbf7b5ceca8c6ecf7248faed0d36c397"
   }
  }
 },
 "nbformat": 4,
 "nbformat_minor": 2,
 "cells": [
  {
   "source": [
    "Python notebook based on https://towardsdatascience.com/fantasy-premier-league-value-analysis-python-tutorial-using-the-fpl-api-8031edfe9910#8ef2\n",
    "\n",
    "Tutorial on how to get use the FPL API to gather data."
   ],
   "cell_type": "markdown",
   "metadata": {}
  },
  {
   "cell_type": "code",
   "execution_count": 1,
   "metadata": {},
   "outputs": [],
   "source": [
    "import requests\n",
    "import pandas as pd\n",
    "import numpy as np"
   ]
  },
  {
   "cell_type": "code",
   "execution_count": 2,
   "metadata": {},
   "outputs": [],
   "source": [
    "# API url\n",
    "url = 'https://fantasy.premierleague.com/api/bootstrap-static/'"
   ]
  },
  {
   "cell_type": "code",
   "execution_count": 3,
   "metadata": {},
   "outputs": [],
   "source": [
    "# Use requests to get request from API\n",
    "request = requests.get(url)"
   ]
  },
  {
   "cell_type": "code",
   "execution_count": 4,
   "metadata": {},
   "outputs": [
    {
     "output_type": "execute_result",
     "data": {
      "text/plain": [
       "dict_keys(['events', 'game_settings', 'phases', 'teams', 'total_players', 'elements', 'element_stats', 'element_types'])"
      ]
     },
     "metadata": {},
     "execution_count": 4
    }
   ],
   "source": [
    "json = request.json()\n",
    "json.keys()"
   ]
  },
  {
   "source": [
    "Building the dataframes we will use"
   ],
   "cell_type": "markdown",
   "metadata": {}
  },
  {
   "source": [
    "elements_df = pd.DataFrame(json['elements'])\n",
    "elements_types_df = pd.DataFrame(json['element_types'])\n",
    "teams_df = pd.DataFrame(json['teams'])"
   ],
   "cell_type": "code",
   "metadata": {},
   "execution_count": 5,
   "outputs": []
  },
  {
   "source": [
    "For loop that loops through phases dictionary to see what it contains"
   ],
   "cell_type": "markdown",
   "metadata": {}
  },
  {
   "source": [
    "for x in range(0,len(json['phases'])):\n",
    "    for key,value in json['phases'][x].items():\n",
    "        print(key,value)"
   ],
   "cell_type": "markdown",
   "metadata": {
    "tags": []
   }
  },
  {
   "source": [
    "elements_df.head()"
   ],
   "cell_type": "code",
   "metadata": {},
   "execution_count": 14,
   "outputs": [
    {
     "output_type": "execute_result",
     "data": {
      "text/plain": [
       "   chance_of_playing_next_round  chance_of_playing_this_round   code  \\\n",
       "0                           0.0                           0.0  37605   \n",
       "1                           0.0                           0.0  39476   \n",
       "2                          75.0                          75.0  41270   \n",
       "3                         100.0                         100.0  54694   \n",
       "4                         100.0                         100.0  58822   \n",
       "\n",
       "   cost_change_event  cost_change_event_fall  cost_change_start  \\\n",
       "0                  0                       0                 -3   \n",
       "1                  0                       0                 -2   \n",
       "2                  0                       0                 -1   \n",
       "3                  0                       0                 -7   \n",
       "4                  0                       0                 -4   \n",
       "\n",
       "   cost_change_start_fall  dreamteam_count  element_type ep_next  ...  \\\n",
       "0                       3                0             3     0.0  ...   \n",
       "1                       2                0             2     0.0  ...   \n",
       "2                       1                0             2     0.0  ...   \n",
       "3                       7                3             3     0.0  ...   \n",
       "4                       4                0             2     0.0  ...   \n",
       "\n",
       "  threat_rank  threat_rank_type ict_index_rank ict_index_rank_type  \\\n",
       "0         703               288            703                 288   \n",
       "1         656               236            675                 238   \n",
       "2         221                60            297                  99   \n",
       "3          33                17             50                  30   \n",
       "4         317               105            344                 123   \n",
       "\n",
       "   corners_and_indirect_freekicks_order  corners_and_indirect_freekicks_text  \\\n",
       "0                                   NaN                                        \n",
       "1                                   NaN                                        \n",
       "2                                   NaN                                        \n",
       "3                                   NaN                                        \n",
       "4                                   NaN                                        \n",
       "\n",
       "  direct_freekicks_order direct_freekicks_text  penalties_order penalties_text  \n",
       "0                    NaN                                    NaN                 \n",
       "1                    NaN                                    NaN                 \n",
       "2                    4.0                                    NaN                 \n",
       "3                    NaN                                    1.0                 \n",
       "4                    5.0                                    NaN                 \n",
       "\n",
       "[5 rows x 67 columns]"
      ],
      "text/html": "<div>\n<style scoped>\n    .dataframe tbody tr th:only-of-type {\n        vertical-align: middle;\n    }\n\n    .dataframe tbody tr th {\n        vertical-align: top;\n    }\n\n    .dataframe thead th {\n        text-align: right;\n    }\n</style>\n<table border=\"1\" class=\"dataframe\">\n  <thead>\n    <tr style=\"text-align: right;\">\n      <th></th>\n      <th>chance_of_playing_next_round</th>\n      <th>chance_of_playing_this_round</th>\n      <th>code</th>\n      <th>cost_change_event</th>\n      <th>cost_change_event_fall</th>\n      <th>cost_change_start</th>\n      <th>cost_change_start_fall</th>\n      <th>dreamteam_count</th>\n      <th>element_type</th>\n      <th>ep_next</th>\n      <th>...</th>\n      <th>threat_rank</th>\n      <th>threat_rank_type</th>\n      <th>ict_index_rank</th>\n      <th>ict_index_rank_type</th>\n      <th>corners_and_indirect_freekicks_order</th>\n      <th>corners_and_indirect_freekicks_text</th>\n      <th>direct_freekicks_order</th>\n      <th>direct_freekicks_text</th>\n      <th>penalties_order</th>\n      <th>penalties_text</th>\n    </tr>\n  </thead>\n  <tbody>\n    <tr>\n      <th>0</th>\n      <td>0.0</td>\n      <td>0.0</td>\n      <td>37605</td>\n      <td>0</td>\n      <td>0</td>\n      <td>-3</td>\n      <td>3</td>\n      <td>0</td>\n      <td>3</td>\n      <td>0.0</td>\n      <td>...</td>\n      <td>703</td>\n      <td>288</td>\n      <td>703</td>\n      <td>288</td>\n      <td>NaN</td>\n      <td></td>\n      <td>NaN</td>\n      <td></td>\n      <td>NaN</td>\n      <td></td>\n    </tr>\n    <tr>\n      <th>1</th>\n      <td>0.0</td>\n      <td>0.0</td>\n      <td>39476</td>\n      <td>0</td>\n      <td>0</td>\n      <td>-2</td>\n      <td>2</td>\n      <td>0</td>\n      <td>2</td>\n      <td>0.0</td>\n      <td>...</td>\n      <td>656</td>\n      <td>236</td>\n      <td>675</td>\n      <td>238</td>\n      <td>NaN</td>\n      <td></td>\n      <td>NaN</td>\n      <td></td>\n      <td>NaN</td>\n      <td></td>\n    </tr>\n    <tr>\n      <th>2</th>\n      <td>75.0</td>\n      <td>75.0</td>\n      <td>41270</td>\n      <td>0</td>\n      <td>0</td>\n      <td>-1</td>\n      <td>1</td>\n      <td>0</td>\n      <td>2</td>\n      <td>0.0</td>\n      <td>...</td>\n      <td>221</td>\n      <td>60</td>\n      <td>297</td>\n      <td>99</td>\n      <td>NaN</td>\n      <td></td>\n      <td>4.0</td>\n      <td></td>\n      <td>NaN</td>\n      <td></td>\n    </tr>\n    <tr>\n      <th>3</th>\n      <td>100.0</td>\n      <td>100.0</td>\n      <td>54694</td>\n      <td>0</td>\n      <td>0</td>\n      <td>-7</td>\n      <td>7</td>\n      <td>3</td>\n      <td>3</td>\n      <td>0.0</td>\n      <td>...</td>\n      <td>33</td>\n      <td>17</td>\n      <td>50</td>\n      <td>30</td>\n      <td>NaN</td>\n      <td></td>\n      <td>NaN</td>\n      <td></td>\n      <td>1.0</td>\n      <td></td>\n    </tr>\n    <tr>\n      <th>4</th>\n      <td>100.0</td>\n      <td>100.0</td>\n      <td>58822</td>\n      <td>0</td>\n      <td>0</td>\n      <td>-4</td>\n      <td>4</td>\n      <td>0</td>\n      <td>2</td>\n      <td>0.0</td>\n      <td>...</td>\n      <td>317</td>\n      <td>105</td>\n      <td>344</td>\n      <td>123</td>\n      <td>NaN</td>\n      <td></td>\n      <td>5.0</td>\n      <td></td>\n      <td>NaN</td>\n      <td></td>\n    </tr>\n  </tbody>\n</table>\n<p>5 rows × 67 columns</p>\n</div>"
     },
     "metadata": {},
     "execution_count": 14
    }
   ]
  },
  {
   "source": [
    "Looking at all the columns of our dataframe"
   ],
   "cell_type": "markdown",
   "metadata": {}
  },
  {
   "cell_type": "code",
   "execution_count": 13,
   "metadata": {},
   "outputs": [
    {
     "output_type": "execute_result",
     "data": {
      "text/plain": [
       "Index(['chance_of_playing_next_round', 'chance_of_playing_this_round', 'code',\n",
       "       'cost_change_event', 'cost_change_event_fall', 'cost_change_start',\n",
       "       'cost_change_start_fall', 'dreamteam_count', 'element_type', 'ep_next',\n",
       "       'ep_this', 'event_points', 'first_name', 'form', 'id', 'in_dreamteam',\n",
       "       'news', 'news_added', 'now_cost', 'photo', 'points_per_game',\n",
       "       'second_name', 'selected_by_percent', 'special', 'squad_number',\n",
       "       'status', 'team', 'team_code', 'total_points', 'transfers_in',\n",
       "       'transfers_in_event', 'transfers_out', 'transfers_out_event',\n",
       "       'value_form', 'value_season', 'web_name', 'minutes', 'goals_scored',\n",
       "       'assists', 'clean_sheets', 'goals_conceded', 'own_goals',\n",
       "       'penalties_saved', 'penalties_missed', 'yellow_cards', 'red_cards',\n",
       "       'saves', 'bonus', 'bps', 'influence', 'creativity', 'threat',\n",
       "       'ict_index', 'influence_rank', 'influence_rank_type', 'creativity_rank',\n",
       "       'creativity_rank_type', 'threat_rank', 'threat_rank_type',\n",
       "       'ict_index_rank', 'ict_index_rank_type',\n",
       "       'corners_and_indirect_freekicks_order',\n",
       "       'corners_and_indirect_freekicks_text', 'direct_freekicks_order',\n",
       "       'direct_freekicks_text', 'penalties_order', 'penalties_text'],\n",
       "      dtype='object')"
      ]
     },
     "metadata": {},
     "execution_count": 13
    }
   ],
   "source": [
    "elements_df.columns"
   ]
  },
  {
   "cell_type": "code",
   "execution_count": 15,
   "metadata": {},
   "outputs": [],
   "source": [
    "slim_elements_df = elements_df[['second_name','team','element_type','selected_by_percent','now_cost','minutes','transfers_in','value_season','total_points']]"
   ]
  },
  {
   "cell_type": "code",
   "execution_count": 16,
   "metadata": {},
   "outputs": [
    {
     "output_type": "execute_result",
     "data": {
      "text/plain": [
       "            second_name  team  element_type selected_by_percent  now_cost  \\\n",
       "0                  Özil     1             3                 0.5        67   \n",
       "1      Papastathopoulos     1             2                 0.1        48   \n",
       "2  Luiz Moreira Marinho     1             2                 0.8        54   \n",
       "3            Aubameyang     1             3                 6.9       113   \n",
       "4                Soares     1             2                 0.3        46   \n",
       "\n",
       "   minutes  transfers_in value_season  total_points  \n",
       "0        0          3441          0.0             0  \n",
       "1        0         10266          0.0             0  \n",
       "2     1396         77099          7.6            41  \n",
       "3     2162       1183696         11.2           126  \n",
       "4      744         41262          6.1            28  "
      ],
      "text/html": "<div>\n<style scoped>\n    .dataframe tbody tr th:only-of-type {\n        vertical-align: middle;\n    }\n\n    .dataframe tbody tr th {\n        vertical-align: top;\n    }\n\n    .dataframe thead th {\n        text-align: right;\n    }\n</style>\n<table border=\"1\" class=\"dataframe\">\n  <thead>\n    <tr style=\"text-align: right;\">\n      <th></th>\n      <th>second_name</th>\n      <th>team</th>\n      <th>element_type</th>\n      <th>selected_by_percent</th>\n      <th>now_cost</th>\n      <th>minutes</th>\n      <th>transfers_in</th>\n      <th>value_season</th>\n      <th>total_points</th>\n    </tr>\n  </thead>\n  <tbody>\n    <tr>\n      <th>0</th>\n      <td>Özil</td>\n      <td>1</td>\n      <td>3</td>\n      <td>0.5</td>\n      <td>67</td>\n      <td>0</td>\n      <td>3441</td>\n      <td>0.0</td>\n      <td>0</td>\n    </tr>\n    <tr>\n      <th>1</th>\n      <td>Papastathopoulos</td>\n      <td>1</td>\n      <td>2</td>\n      <td>0.1</td>\n      <td>48</td>\n      <td>0</td>\n      <td>10266</td>\n      <td>0.0</td>\n      <td>0</td>\n    </tr>\n    <tr>\n      <th>2</th>\n      <td>Luiz Moreira Marinho</td>\n      <td>1</td>\n      <td>2</td>\n      <td>0.8</td>\n      <td>54</td>\n      <td>1396</td>\n      <td>77099</td>\n      <td>7.6</td>\n      <td>41</td>\n    </tr>\n    <tr>\n      <th>3</th>\n      <td>Aubameyang</td>\n      <td>1</td>\n      <td>3</td>\n      <td>6.9</td>\n      <td>113</td>\n      <td>2162</td>\n      <td>1183696</td>\n      <td>11.2</td>\n      <td>126</td>\n    </tr>\n    <tr>\n      <th>4</th>\n      <td>Soares</td>\n      <td>1</td>\n      <td>2</td>\n      <td>0.3</td>\n      <td>46</td>\n      <td>744</td>\n      <td>41262</td>\n      <td>6.1</td>\n      <td>28</td>\n    </tr>\n  </tbody>\n</table>\n</div>"
     },
     "metadata": {},
     "execution_count": 16
    }
   ],
   "source": [
    "slim_elements_df.head()"
   ]
  },
  {
   "cell_type": "code",
   "execution_count": 26,
   "metadata": {},
   "outputs": [
    {
     "output_type": "stream",
     "name": "stderr",
     "text": [
      "<ipython-input-26-d2f8756adc31>:1: SettingWithCopyWarning: \nA value is trying to be set on a copy of a slice from a DataFrame.\nTry using .loc[row_indexer,col_indexer] = value instead\n\nSee the caveats in the documentation: https://pandas.pydata.org/pandas-docs/stable/user_guide/indexing.html#returning-a-view-versus-a-copy\n  slim_elements_df['position'] = slim_elements_df.element_type.map(elements_types_df.set_index('id').singular_name)\n"
     ]
    }
   ],
   "source": [
    "slim_elements_df['position'] = slim_elements_df.element_type.map(elements_types_df.set_index('id').singular_name)"
   ]
  },
  {
   "cell_type": "code",
   "execution_count": 27,
   "metadata": {},
   "outputs": [
    {
     "output_type": "execute_result",
     "data": {
      "text/plain": [
       "            second_name  team  element_type selected_by_percent  now_cost  \\\n",
       "0                  Özil     1             3                 0.5        67   \n",
       "1      Papastathopoulos     1             2                 0.1        48   \n",
       "2  Luiz Moreira Marinho     1             2                 0.8        54   \n",
       "3            Aubameyang     1             3                 6.9       113   \n",
       "4                Soares     1             2                 0.3        46   \n",
       "\n",
       "   minutes  transfers_in value_season  total_points    position  \n",
       "0        0          3441          0.0             0  Midfielder  \n",
       "1        0         10266          0.0             0    Defender  \n",
       "2     1396         77099          7.6            41    Defender  \n",
       "3     2162       1183696         11.2           126  Midfielder  \n",
       "4      744         41262          6.1            28    Defender  "
      ],
      "text/html": "<div>\n<style scoped>\n    .dataframe tbody tr th:only-of-type {\n        vertical-align: middle;\n    }\n\n    .dataframe tbody tr th {\n        vertical-align: top;\n    }\n\n    .dataframe thead th {\n        text-align: right;\n    }\n</style>\n<table border=\"1\" class=\"dataframe\">\n  <thead>\n    <tr style=\"text-align: right;\">\n      <th></th>\n      <th>second_name</th>\n      <th>team</th>\n      <th>element_type</th>\n      <th>selected_by_percent</th>\n      <th>now_cost</th>\n      <th>minutes</th>\n      <th>transfers_in</th>\n      <th>value_season</th>\n      <th>total_points</th>\n      <th>position</th>\n    </tr>\n  </thead>\n  <tbody>\n    <tr>\n      <th>0</th>\n      <td>Özil</td>\n      <td>1</td>\n      <td>3</td>\n      <td>0.5</td>\n      <td>67</td>\n      <td>0</td>\n      <td>3441</td>\n      <td>0.0</td>\n      <td>0</td>\n      <td>Midfielder</td>\n    </tr>\n    <tr>\n      <th>1</th>\n      <td>Papastathopoulos</td>\n      <td>1</td>\n      <td>2</td>\n      <td>0.1</td>\n      <td>48</td>\n      <td>0</td>\n      <td>10266</td>\n      <td>0.0</td>\n      <td>0</td>\n      <td>Defender</td>\n    </tr>\n    <tr>\n      <th>2</th>\n      <td>Luiz Moreira Marinho</td>\n      <td>1</td>\n      <td>2</td>\n      <td>0.8</td>\n      <td>54</td>\n      <td>1396</td>\n      <td>77099</td>\n      <td>7.6</td>\n      <td>41</td>\n      <td>Defender</td>\n    </tr>\n    <tr>\n      <th>3</th>\n      <td>Aubameyang</td>\n      <td>1</td>\n      <td>3</td>\n      <td>6.9</td>\n      <td>113</td>\n      <td>2162</td>\n      <td>1183696</td>\n      <td>11.2</td>\n      <td>126</td>\n      <td>Midfielder</td>\n    </tr>\n    <tr>\n      <th>4</th>\n      <td>Soares</td>\n      <td>1</td>\n      <td>2</td>\n      <td>0.3</td>\n      <td>46</td>\n      <td>744</td>\n      <td>41262</td>\n      <td>6.1</td>\n      <td>28</td>\n      <td>Defender</td>\n    </tr>\n  </tbody>\n</table>\n</div>"
     },
     "metadata": {},
     "execution_count": 27
    }
   ],
   "source": [
    "slim_elements_df.head()"
   ]
  },
  {
   "cell_type": "code",
   "execution_count": null,
   "metadata": {},
   "outputs": [],
   "source": []
  }
 ]
}